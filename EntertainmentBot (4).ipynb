{
  "nbformat": 4,
  "nbformat_minor": 0,
  "metadata": {
    "colab": {
      "name": "EntertainmentBot.ipynb",
      "provenance": [],
      "collapsed_sections": []
    },
    "kernelspec": {
      "name": "python3",
      "display_name": "Python 3"
    },
    "language_info": {
      "name": "python"
    }
  },
  "cells": [
    {
      "cell_type": "code",
      "source": [
        ""
      ],
      "metadata": {
        "id": "hpwEBFjlPH5S"
      },
      "execution_count": null,
      "outputs": []
    },
    {
      "cell_type": "code",
      "execution_count": 28,
      "metadata": {
        "colab": {
          "base_uri": "https://localhost:8080/"
        },
        "id": "xgc1m4BXaUhv",
        "outputId": "6e0e305d-709d-4e7c-a817-8ef4d12ef571"
      },
      "outputs": [
        {
          "output_type": "stream",
          "name": "stdout",
          "text": [
            "Hello, what is your name? Great\n",
            "Hello Great\n",
            "How are you today? good\n",
            "Nice to hear that You are good my friend!\n",
            "What is your favourite colour? blue\n",
            "Nice choice of colour!My favourite colour is Yellow\n",
            "What are you doing today? nthing\n",
            "You should do something if your mood is to do nothing,else take rest\n",
            "Do you have any friend? yes\n",
            "Nice!!!Friends are essential part of life.\n",
            "Which food type do you like most? chinese\n",
            "Nice taste my friend!!I mostly like Chinese\n",
            "Which sport do you love to watch the most? football\n",
            "Nice choice\n",
            "Do you know the height of world's tallest mountain? no\n",
            "It's height is 8848.\n",
            "How many planet are there in this solar system9\n",
            "Nice Job!!\n",
            "What is the name of your horoscope? aries\n",
            "Oh nice Zodiac!!My horscope name is Capricon\n",
            "How many sit up can you do? 10\n",
            "You can done great !!I can do around 34\n",
            "Nice!!You are an energetic person!\n",
            "/nI love talking with you!/n\n",
            "See you! Have a nice day.Byee My friend !!Take care!!\n"
          ]
        }
      ],
      "source": [
        "import time\n",
        "import random\n",
        "\n",
        "name = input(\"Hello, what is your name? \")\n",
        "\n",
        "time.sleep(2)\n",
        "print(\"Hello \" + name)\n",
        "\n",
        "feeling = input(\"How are you today? \")\n",
        "\n",
        "time.sleep(1)\n",
        "if \"good\" in feeling:\n",
        "    print(\"Nice to hear that You are good my friend!\")\n",
        "else:\n",
        "    print(\"I'm sorry to hear that!\")\n",
        "\n",
        "time.sleep(1)\n",
        "favcolour = input(\"What is your favourite colour? \")\n",
        "\n",
        "colours = [\"Red\",\"Green\",\"Blue\",\"Orange\",\"Yellow\"]\n",
        "\n",
        "time.sleep(1)\n",
        "print(\"Nice choice of colour!My favourite colour is \" + random.choice(colours))\n",
        "\n",
        "mood = input(\"What are you doing today? \")\n",
        "moods = [\"dancing\", \"reading\", \"playing\", \"watching TV\", \"hiking\",\"nothing\"]\n",
        "time.sleep(1)\n",
        "if \"nothing\" in moods:\n",
        "  print(\"You should do something if your mood is to do nothing,else take rest\")\n",
        "else:\n",
        "  print(\"Oh great!!!I feel like \" + random.choice(mood) + \" today\")\n",
        "\n",
        "friend=input(\"Do you have any friend? \")\n",
        "friend = [\"yes\", \"no\"]\n",
        "time.sleep(1)\n",
        "if \"yes\" in friend:\n",
        "  print(\"Nice!!!Friends are essential part of life.\")\n",
        "else:\n",
        "  print(\"We can be friends forever.\")\n",
        "\n",
        "\n",
        "\n",
        "\n",
        "food = input(\"Which food type do you like most? \")\n",
        "food=[\"Asian\", \"Japanese\", \"Italian\", \"Chinese\", \"Latin\"]\n",
        "time.sleep(1)\n",
        "print(\"Nice taste my friend!!I mostly like \" +random.choice(food))\n",
        "\n",
        "sport = input(\"Which sport do you love to watch the most? \")\n",
        "sports=[\"cricket\", \"Baseball\", \"Soccer\", \"Rugby\"]\n",
        "time.sleep(1)\n",
        "print(\"Nice choice\")\n",
        "!!I love to watch \" +random.choice(sports))\n",
        "time.sleep(1)\n",
        "\n",
        "\n",
        "\n",
        "peak = input(\"Do you know the height of world's tallest mountain? \")\n",
        "peak=[\"yes\",\"no\"]\n",
        "time.sleep(1)\n",
        "if \"no\" in peak:\n",
        "   print(\"It's height is 8848.\")\n",
        "else:\n",
        "   print(\"Wow!!You are genius\")\n",
        "\n",
        "planet = input(\"How many planet are there in this solar system\")\n",
        "planets=[\"yes\",\"no\"]\n",
        "time.sleep(1)\n",
        "if \"yes\" in planets:\n",
        "  print(\"Nice Job!!\")\n",
        "else:\n",
        "  print(\"I guess there are 8 planets\")\n",
        "\n",
        "horoscope = input(\"What is the name of your horoscope? \")\n",
        "horoscope=[\"Leo\", \"Cancer\", \"Capricon\", \"Aries\",\"Sagittarius\"]\n",
        "time.sleep(1)\n",
        "print(\"Oh nice Zodiac!!My horscope name is \" + random.choice(horoscope))\n",
        "\n",
        "exe = input(\"How many sit up can you do? \")\n",
        "exe=[\"15\", \"34\", \"25\", \"40\", \"50\"]\n",
        "time.sleep(1)\n",
        "print(\"You can done great !!I can do around \" + random.choice(exe))\n",
        "\n",
        "tire= (\"I am feeling tired today.\")\n",
        "tired=(\"How you are feeling?Tired or not\")\n",
        "time.sleep(1)\n",
        "if \"tired\" in tired:\n",
        "  print(\"Take rest my friend\")\n",
        "else:\n",
        "  print(\"Nice!!You are an energetic person!\")\n",
        "\n",
        "print(\"/nI love talking with you!/n\")\n",
        "print(\"See you! Have a nice day.Byee My friend !!Take care!!\")\n",
        "\n",
        "\n",
        "\n",
        "\n",
        "\n",
        "\n",
        "\n"
      ]
    },
    {
      "cell_type": "code",
      "source": [
        ""
      ],
      "metadata": {
        "id": "jMWw5R1EKD3l"
      },
      "execution_count": null,
      "outputs": []
    },
    {
      "cell_type": "code",
      "source": [
        ""
      ],
      "metadata": {
        "id": "RN9TCPVbKHnE"
      },
      "execution_count": null,
      "outputs": []
    }
  ]
}